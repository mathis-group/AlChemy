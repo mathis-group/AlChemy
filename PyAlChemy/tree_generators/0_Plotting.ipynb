{
 "cells": [
  {
   "cell_type": "code",
   "execution_count": 41,
   "metadata": {
    "vscode": {
     "languageId": "r"
    }
   },
   "outputs": [
    {
     "name": "stderr",
     "output_type": "stream",
     "text": [
      "Warning message:\n",
      "\"package 'ggpubr' was built under R version 4.1.3\"\n"
     ]
    }
   ],
   "source": [
    "library(tidyverse)\n",
    "library(ggpubr)"
   ]
  },
  {
   "cell_type": "code",
   "execution_count": 4,
   "metadata": {
    "vscode": {
     "languageId": "r"
    }
   },
   "outputs": [],
   "source": [
    "all.df <- read.csv(\"random_trees_analyzed.csv\")[-1]"
   ]
  },
  {
   "cell_type": "code",
   "execution_count": 5,
   "metadata": {
    "vscode": {
     "languageId": "r"
    }
   },
   "outputs": [
    {
     "data": {
      "text/html": [
       "<table class=\"dataframe\">\n",
       "<caption>A data.frame: 6 × 35</caption>\n",
       "<thead>\n",
       "\t<tr><th></th><th scope=col>count</th><th scope=col>pop_entropy</th><th scope=col>new_exprs</th><th scope=col>time_step</th><th scope=col>ave_num_vars</th><th scope=col>std_num_vars</th><th scope=col>med_num_vars</th><th scope=col>ave_expr_len</th><th scope=col>std_expr_len</th><th scope=col>med_expr_len</th><th scope=col>...</th><th scope=col>stack_size</th><th scope=col>max_len_identifer</th><th scope=col>max_len_basis_types</th><th scope=col>var_prefix</th><th scope=col>error_file</th><th scope=col>max_depth</th><th scope=col>n_vars</th><th scope=col>bind_all_free_vars</th><th scope=col>p_range_app</th><th scope=col>p_range_abs</th></tr>\n",
       "\t<tr><th></th><th scope=col>&lt;dbl&gt;</th><th scope=col>&lt;dbl&gt;</th><th scope=col>&lt;dbl&gt;</th><th scope=col>&lt;int&gt;</th><th scope=col>&lt;dbl&gt;</th><th scope=col>&lt;dbl&gt;</th><th scope=col>&lt;dbl&gt;</th><th scope=col>&lt;dbl&gt;</th><th scope=col>&lt;dbl&gt;</th><th scope=col>&lt;dbl&gt;</th><th scope=col>...</th><th scope=col>&lt;int&gt;</th><th scope=col>&lt;int&gt;</th><th scope=col>&lt;int&gt;</th><th scope=col>&lt;chr&gt;</th><th scope=col>&lt;lgl&gt;</th><th scope=col>&lt;int&gt;</th><th scope=col>&lt;int&gt;</th><th scope=col>&lt;chr&gt;</th><th scope=col>&lt;chr&gt;</th><th scope=col>&lt;chr&gt;</th></tr>\n",
       "</thead>\n",
       "<tbody>\n",
       "\t<tr><th scope=row>1</th><td>1000</td><td>3.0000000</td><td>1000</td><td>0</td><td>4.835000</td><td>2.003940</td><td>5.0</td><td>40.605</td><td> 9.697782</td><td>42</td><td>...</td><td>2000</td><td>10</td><td>100</td><td>x</td><td>NA</td><td>7</td><td>6</td><td>True</td><td>(0.3, 0.5)</td><td>(0.5, 0.3)</td></tr>\n",
       "\t<tr><th scope=row>2</th><td>  50</td><td>0.9550860</td><td>  25</td><td>1</td><td>4.100000</td><td>2.156386</td><td>4.0</td><td>28.260</td><td>13.152658</td><td>26</td><td>...</td><td>2000</td><td>10</td><td>100</td><td>x</td><td>NA</td><td>7</td><td>6</td><td>True</td><td>(0.3, 0.5)</td><td>(0.5, 0.3)</td></tr>\n",
       "\t<tr><th scope=row>3</th><td>  12</td><td>0.5832859</td><td>   0</td><td>2</td><td>3.083333</td><td>1.552328</td><td>3.0</td><td>19.000</td><td> 8.812869</td><td>18</td><td>...</td><td>2000</td><td>10</td><td>100</td><td>x</td><td>NA</td><td>7</td><td>6</td><td>True</td><td>(0.3, 0.5)</td><td>(0.5, 0.3)</td></tr>\n",
       "\t<tr><th scope=row>4</th><td>   8</td><td>0.4719806</td><td>   0</td><td>3</td><td>3.000000</td><td>1.732051</td><td>2.5</td><td>16.500</td><td> 7.984360</td><td>14</td><td>...</td><td>2000</td><td>10</td><td>100</td><td>x</td><td>NA</td><td>7</td><td>6</td><td>True</td><td>(0.3, 0.5)</td><td>(0.5, 0.3)</td></tr>\n",
       "\t<tr><th scope=row>5</th><td>   5</td><td>0.4190889</td><td>   0</td><td>4</td><td>3.000000</td><td>1.414214</td><td>3.0</td><td>15.600</td><td> 7.418895</td><td>14</td><td>...</td><td>2000</td><td>10</td><td>100</td><td>x</td><td>NA</td><td>7</td><td>6</td><td>True</td><td>(0.3, 0.5)</td><td>(0.5, 0.3)</td></tr>\n",
       "\t<tr><th scope=row>6</th><td>   5</td><td>0.3896949</td><td>   0</td><td>5</td><td>3.000000</td><td>1.414214</td><td>3.0</td><td>15.600</td><td> 7.418895</td><td>14</td><td>...</td><td>2000</td><td>10</td><td>100</td><td>x</td><td>NA</td><td>7</td><td>6</td><td>True</td><td>(0.3, 0.5)</td><td>(0.5, 0.3)</td></tr>\n",
       "</tbody>\n",
       "</table>\n"
      ],
      "text/latex": [
       "A data.frame: 6 × 35\n",
       "\\begin{tabular}{r|lllllllllllllllllllll}\n",
       "  & count & pop\\_entropy & new\\_exprs & time\\_step & ave\\_num\\_vars & std\\_num\\_vars & med\\_num\\_vars & ave\\_expr\\_len & std\\_expr\\_len & med\\_expr\\_len & ... & stack\\_size & max\\_len\\_identifer & max\\_len\\_basis\\_types & var\\_prefix & error\\_file & max\\_depth & n\\_vars & bind\\_all\\_free\\_vars & p\\_range\\_app & p\\_range\\_abs\\\\\n",
       "  & <dbl> & <dbl> & <dbl> & <int> & <dbl> & <dbl> & <dbl> & <dbl> & <dbl> & <dbl> & ... & <int> & <int> & <int> & <chr> & <lgl> & <int> & <int> & <chr> & <chr> & <chr>\\\\\n",
       "\\hline\n",
       "\t1 & 1000 & 3.0000000 & 1000 & 0 & 4.835000 & 2.003940 & 5.0 & 40.605 &  9.697782 & 42 & ... & 2000 & 10 & 100 & x & NA & 7 & 6 & True & (0.3, 0.5) & (0.5, 0.3)\\\\\n",
       "\t2 &   50 & 0.9550860 &   25 & 1 & 4.100000 & 2.156386 & 4.0 & 28.260 & 13.152658 & 26 & ... & 2000 & 10 & 100 & x & NA & 7 & 6 & True & (0.3, 0.5) & (0.5, 0.3)\\\\\n",
       "\t3 &   12 & 0.5832859 &    0 & 2 & 3.083333 & 1.552328 & 3.0 & 19.000 &  8.812869 & 18 & ... & 2000 & 10 & 100 & x & NA & 7 & 6 & True & (0.3, 0.5) & (0.5, 0.3)\\\\\n",
       "\t4 &    8 & 0.4719806 &    0 & 3 & 3.000000 & 1.732051 & 2.5 & 16.500 &  7.984360 & 14 & ... & 2000 & 10 & 100 & x & NA & 7 & 6 & True & (0.3, 0.5) & (0.5, 0.3)\\\\\n",
       "\t5 &    5 & 0.4190889 &    0 & 4 & 3.000000 & 1.414214 & 3.0 & 15.600 &  7.418895 & 14 & ... & 2000 & 10 & 100 & x & NA & 7 & 6 & True & (0.3, 0.5) & (0.5, 0.3)\\\\\n",
       "\t6 &    5 & 0.3896949 &    0 & 5 & 3.000000 & 1.414214 & 3.0 & 15.600 &  7.418895 & 14 & ... & 2000 & 10 & 100 & x & NA & 7 & 6 & True & (0.3, 0.5) & (0.5, 0.3)\\\\\n",
       "\\end{tabular}\n"
      ],
      "text/markdown": [
       "\n",
       "A data.frame: 6 × 35\n",
       "\n",
       "| <!--/--> | count &lt;dbl&gt; | pop_entropy &lt;dbl&gt; | new_exprs &lt;dbl&gt; | time_step &lt;int&gt; | ave_num_vars &lt;dbl&gt; | std_num_vars &lt;dbl&gt; | med_num_vars &lt;dbl&gt; | ave_expr_len &lt;dbl&gt; | std_expr_len &lt;dbl&gt; | med_expr_len &lt;dbl&gt; | ... ... | stack_size &lt;int&gt; | max_len_identifer &lt;int&gt; | max_len_basis_types &lt;int&gt; | var_prefix &lt;chr&gt; | error_file &lt;lgl&gt; | max_depth &lt;int&gt; | n_vars &lt;int&gt; | bind_all_free_vars &lt;chr&gt; | p_range_app &lt;chr&gt; | p_range_abs &lt;chr&gt; |\n",
       "|---|---|---|---|---|---|---|---|---|---|---|---|---|---|---|---|---|---|---|---|---|---|\n",
       "| 1 | 1000 | 3.0000000 | 1000 | 0 | 4.835000 | 2.003940 | 5.0 | 40.605 |  9.697782 | 42 | ... | 2000 | 10 | 100 | x | NA | 7 | 6 | True | (0.3, 0.5) | (0.5, 0.3) |\n",
       "| 2 |   50 | 0.9550860 |   25 | 1 | 4.100000 | 2.156386 | 4.0 | 28.260 | 13.152658 | 26 | ... | 2000 | 10 | 100 | x | NA | 7 | 6 | True | (0.3, 0.5) | (0.5, 0.3) |\n",
       "| 3 |   12 | 0.5832859 |    0 | 2 | 3.083333 | 1.552328 | 3.0 | 19.000 |  8.812869 | 18 | ... | 2000 | 10 | 100 | x | NA | 7 | 6 | True | (0.3, 0.5) | (0.5, 0.3) |\n",
       "| 4 |    8 | 0.4719806 |    0 | 3 | 3.000000 | 1.732051 | 2.5 | 16.500 |  7.984360 | 14 | ... | 2000 | 10 | 100 | x | NA | 7 | 6 | True | (0.3, 0.5) | (0.5, 0.3) |\n",
       "| 5 |    5 | 0.4190889 |    0 | 4 | 3.000000 | 1.414214 | 3.0 | 15.600 |  7.418895 | 14 | ... | 2000 | 10 | 100 | x | NA | 7 | 6 | True | (0.3, 0.5) | (0.5, 0.3) |\n",
       "| 6 |    5 | 0.3896949 |    0 | 5 | 3.000000 | 1.414214 | 3.0 | 15.600 |  7.418895 | 14 | ... | 2000 | 10 | 100 | x | NA | 7 | 6 | True | (0.3, 0.5) | (0.5, 0.3) |\n",
       "\n"
      ],
      "text/plain": [
       "  count pop_entropy new_exprs time_step ave_num_vars std_num_vars med_num_vars\n",
       "1 1000  3.0000000   1000      0         4.835000     2.003940     5.0         \n",
       "2   50  0.9550860     25      1         4.100000     2.156386     4.0         \n",
       "3   12  0.5832859      0      2         3.083333     1.552328     3.0         \n",
       "4    8  0.4719806      0      3         3.000000     1.732051     2.5         \n",
       "5    5  0.4190889      0      4         3.000000     1.414214     3.0         \n",
       "6    5  0.3896949      0      5         3.000000     1.414214     3.0         \n",
       "  ave_expr_len std_expr_len med_expr_len ... stack_size max_len_identifer\n",
       "1 40.605        9.697782    42           ... 2000       10               \n",
       "2 28.260       13.152658    26           ... 2000       10               \n",
       "3 19.000        8.812869    18           ... 2000       10               \n",
       "4 16.500        7.984360    14           ... 2000       10               \n",
       "5 15.600        7.418895    14           ... 2000       10               \n",
       "6 15.600        7.418895    14           ... 2000       10               \n",
       "  max_len_basis_types var_prefix error_file max_depth n_vars bind_all_free_vars\n",
       "1 100                 x          NA         7         6      True              \n",
       "2 100                 x          NA         7         6      True              \n",
       "3 100                 x          NA         7         6      True              \n",
       "4 100                 x          NA         7         6      True              \n",
       "5 100                 x          NA         7         6      True              \n",
       "6 100                 x          NA         7         6      True              \n",
       "  p_range_app p_range_abs\n",
       "1 (0.3, 0.5)  (0.5, 0.3) \n",
       "2 (0.3, 0.5)  (0.5, 0.3) \n",
       "3 (0.3, 0.5)  (0.5, 0.3) \n",
       "4 (0.3, 0.5)  (0.5, 0.3) \n",
       "5 (0.3, 0.5)  (0.5, 0.3) \n",
       "6 (0.3, 0.5)  (0.5, 0.3) "
      ]
     },
     "metadata": {},
     "output_type": "display_data"
    }
   ],
   "source": [
    "head(all.df)"
   ]
  },
  {
   "cell_type": "code",
   "execution_count": 6,
   "metadata": {
    "vscode": {
     "languageId": "r"
    }
   },
   "outputs": [
    {
     "data": {
      "text/html": [
       "<style>\n",
       ".list-inline {list-style: none; margin:0; padding: 0}\n",
       ".list-inline>li {display: inline-block}\n",
       ".list-inline>li:not(:last-child)::after {content: \"\\00b7\"; padding: 0 .5ex}\n",
       "</style>\n",
       "<ol class=list-inline><li>'count'</li><li>'pop_entropy'</li><li>'new_exprs'</li><li>'time_step'</li><li>'ave_num_vars'</li><li>'std_num_vars'</li><li>'med_num_vars'</li><li>'ave_expr_len'</li><li>'std_expr_len'</li><li>'med_expr_len'</li><li>'med_c_factor'</li><li>'med_med_depth'</li><li>'med_branching_factor'</li><li>'savename'</li><li>'directory'</li><li>'name'</li><li>'random_seed'</li><li>'max_objects'</li><li>'n_collisions'</li><li>'output_freq'</li><li>'input_file'</li><li>'copy_allowed'</li><li>'heap'</li><li>'max_steps'</li><li>'symbol_table_size'</li><li>'stack_size'</li><li>'max_len_identifer'</li><li>'max_len_basis_types'</li><li>'var_prefix'</li><li>'error_file'</li><li>'max_depth'</li><li>'n_vars'</li><li>'bind_all_free_vars'</li><li>'p_range_app'</li><li>'p_range_abs'</li></ol>\n"
      ],
      "text/latex": [
       "\\begin{enumerate*}\n",
       "\\item 'count'\n",
       "\\item 'pop\\_entropy'\n",
       "\\item 'new\\_exprs'\n",
       "\\item 'time\\_step'\n",
       "\\item 'ave\\_num\\_vars'\n",
       "\\item 'std\\_num\\_vars'\n",
       "\\item 'med\\_num\\_vars'\n",
       "\\item 'ave\\_expr\\_len'\n",
       "\\item 'std\\_expr\\_len'\n",
       "\\item 'med\\_expr\\_len'\n",
       "\\item 'med\\_c\\_factor'\n",
       "\\item 'med\\_med\\_depth'\n",
       "\\item 'med\\_branching\\_factor'\n",
       "\\item 'savename'\n",
       "\\item 'directory'\n",
       "\\item 'name'\n",
       "\\item 'random\\_seed'\n",
       "\\item 'max\\_objects'\n",
       "\\item 'n\\_collisions'\n",
       "\\item 'output\\_freq'\n",
       "\\item 'input\\_file'\n",
       "\\item 'copy\\_allowed'\n",
       "\\item 'heap'\n",
       "\\item 'max\\_steps'\n",
       "\\item 'symbol\\_table\\_size'\n",
       "\\item 'stack\\_size'\n",
       "\\item 'max\\_len\\_identifer'\n",
       "\\item 'max\\_len\\_basis\\_types'\n",
       "\\item 'var\\_prefix'\n",
       "\\item 'error\\_file'\n",
       "\\item 'max\\_depth'\n",
       "\\item 'n\\_vars'\n",
       "\\item 'bind\\_all\\_free\\_vars'\n",
       "\\item 'p\\_range\\_app'\n",
       "\\item 'p\\_range\\_abs'\n",
       "\\end{enumerate*}\n"
      ],
      "text/markdown": [
       "1. 'count'\n",
       "2. 'pop_entropy'\n",
       "3. 'new_exprs'\n",
       "4. 'time_step'\n",
       "5. 'ave_num_vars'\n",
       "6. 'std_num_vars'\n",
       "7. 'med_num_vars'\n",
       "8. 'ave_expr_len'\n",
       "9. 'std_expr_len'\n",
       "10. 'med_expr_len'\n",
       "11. 'med_c_factor'\n",
       "12. 'med_med_depth'\n",
       "13. 'med_branching_factor'\n",
       "14. 'savename'\n",
       "15. 'directory'\n",
       "16. 'name'\n",
       "17. 'random_seed'\n",
       "18. 'max_objects'\n",
       "19. 'n_collisions'\n",
       "20. 'output_freq'\n",
       "21. 'input_file'\n",
       "22. 'copy_allowed'\n",
       "23. 'heap'\n",
       "24. 'max_steps'\n",
       "25. 'symbol_table_size'\n",
       "26. 'stack_size'\n",
       "27. 'max_len_identifer'\n",
       "28. 'max_len_basis_types'\n",
       "29. 'var_prefix'\n",
       "30. 'error_file'\n",
       "31. 'max_depth'\n",
       "32. 'n_vars'\n",
       "33. 'bind_all_free_vars'\n",
       "34. 'p_range_app'\n",
       "35. 'p_range_abs'\n",
       "\n",
       "\n"
      ],
      "text/plain": [
       " [1] \"count\"                \"pop_entropy\"          \"new_exprs\"           \n",
       " [4] \"time_step\"            \"ave_num_vars\"         \"std_num_vars\"        \n",
       " [7] \"med_num_vars\"         \"ave_expr_len\"         \"std_expr_len\"        \n",
       "[10] \"med_expr_len\"         \"med_c_factor\"         \"med_med_depth\"       \n",
       "[13] \"med_branching_factor\" \"savename\"             \"directory\"           \n",
       "[16] \"name\"                 \"random_seed\"          \"max_objects\"         \n",
       "[19] \"n_collisions\"         \"output_freq\"          \"input_file\"          \n",
       "[22] \"copy_allowed\"         \"heap\"                 \"max_steps\"           \n",
       "[25] \"symbol_table_size\"    \"stack_size\"           \"max_len_identifer\"   \n",
       "[28] \"max_len_basis_types\"  \"var_prefix\"           \"error_file\"          \n",
       "[31] \"max_depth\"            \"n_vars\"               \"bind_all_free_vars\"  \n",
       "[34] \"p_range_app\"          \"p_range_abs\"         "
      ]
     },
     "metadata": {},
     "output_type": "display_data"
    }
   ],
   "source": [
    "colnames(all.df)"
   ]
  },
  {
   "cell_type": "code",
   "execution_count": 9,
   "metadata": {
    "vscode": {
     "languageId": "r"
    }
   },
   "outputs": [],
   "source": [
    "all.df <- all.df %>% mutate(type = ifelse(grepl(\"control\", name), \"Fontana\", \"BinaryTree\"))"
   ]
  },
  {
   "cell_type": "code",
   "execution_count": 40,
   "metadata": {
    "vscode": {
     "languageId": "r"
    }
   },
   "outputs": [
    {
     "data": {
      "image/png": "[encoded data removed]",
      "text/plain": [
       "plot without title"
      ]
     },
     "metadata": {
      "image/png": {
       "height": 420,
       "width": 420
      }
     },
     "output_type": "display_data"
    }
   ],
   "source": [
    "p <- ggplot(all.df) + \n",
    "        geom_line(aes(x = time_step*1000, \n",
    "                        y = count,\n",
    "                        color = savename,\n",
    "                        group = savename)) +\n",
    "        facet_wrap(~type) + \n",
    "        theme_bw(base_size = 11) +\n",
    "        theme(legend.position = \"none\") +\n",
    "        labs(x = \"Time (Collision Number)\", y = \"Unique Expressions\") +\n",
    "        scale_y_continuous(expand = c(0,10))\n",
    "p\n",
    "ggsave(\"BTree_vs_Fontana_unique_expressions.png\", p, width = 183, height =247/4, units = \"mm\")"
   ]
  },
  {
   "cell_type": "code",
   "execution_count": 17,
   "metadata": {
    "vscode": {
     "languageId": "r"
    }
   },
   "outputs": [
    {
     "data": {
      "image/png": "[encoded data removed]",
      "text/plain": [
       "plot without title"
      ]
     },
     "metadata": {
      "image/png": {
       "height": 420,
       "width": 420
      }
     },
     "output_type": "display_data"
    }
   ],
   "source": [
    "ggplot(all.df) + \n",
    "    geom_point(aes(x = med_branching_factor, \n",
    "                    y = med_c_factor,\n",
    "                    color = savename,\n",
    "                    group = savename)) +\n",
    "    facet_wrap(~type) + \n",
    "    theme(legend.position = \"none\")\n",
    "    "
   ]
  },
  {
   "cell_type": "code",
   "execution_count": 29,
   "metadata": {
    "vscode": {
     "languageId": "r"
    }
   },
   "outputs": [
    {
     "data": {
      "text/html": [
       "<table class=\"dataframe\">\n",
       "<caption>A data.frame: 6 × 6</caption>\n",
       "<thead>\n",
       "\t<tr><th></th><th scope=col>n_nodes</th><th scope=col>c_factor</th><th scope=col>max_depth</th><th scope=col>med_depth</th><th scope=col>branching_factor</th><th scope=col>source</th></tr>\n",
       "\t<tr><th></th><th scope=col>&lt;int&gt;</th><th scope=col>&lt;dbl&gt;</th><th scope=col>&lt;int&gt;</th><th scope=col>&lt;dbl&gt;</th><th scope=col>&lt;dbl&gt;</th><th scope=col>&lt;chr&gt;</th></tr>\n",
       "</thead>\n",
       "<tbody>\n",
       "\t<tr><th scope=row>1</th><td>17</td><td>0.5109329</td><td>8</td><td>4</td><td>1.600000</td><td>BinaryTree</td></tr>\n",
       "\t<tr><th scope=row>2</th><td>20</td><td>0.4802142</td><td>9</td><td>5</td><td>1.583333</td><td>BinaryTree</td></tr>\n",
       "\t<tr><th scope=row>3</th><td>24</td><td>0.6549946</td><td>7</td><td>5</td><td>1.769231</td><td>BinaryTree</td></tr>\n",
       "\t<tr><th scope=row>4</th><td>20</td><td>0.6174183</td><td>7</td><td>5</td><td>1.461538</td><td>BinaryTree</td></tr>\n",
       "\t<tr><th scope=row>5</th><td>20</td><td>0.6174183</td><td>7</td><td>5</td><td>1.583333</td><td>BinaryTree</td></tr>\n",
       "\t<tr><th scope=row>6</th><td>17</td><td>0.5839233</td><td>7</td><td>5</td><td>1.600000</td><td>BinaryTree</td></tr>\n",
       "</tbody>\n",
       "</table>\n"
      ],
      "text/latex": [
       "A data.frame: 6 × 6\n",
       "\\begin{tabular}{r|llllll}\n",
       "  & n\\_nodes & c\\_factor & max\\_depth & med\\_depth & branching\\_factor & source\\\\\n",
       "  & <int> & <dbl> & <int> & <dbl> & <dbl> & <chr>\\\\\n",
       "\\hline\n",
       "\t1 & 17 & 0.5109329 & 8 & 4 & 1.600000 & BinaryTree\\\\\n",
       "\t2 & 20 & 0.4802142 & 9 & 5 & 1.583333 & BinaryTree\\\\\n",
       "\t3 & 24 & 0.6549946 & 7 & 5 & 1.769231 & BinaryTree\\\\\n",
       "\t4 & 20 & 0.6174183 & 7 & 5 & 1.461538 & BinaryTree\\\\\n",
       "\t5 & 20 & 0.6174183 & 7 & 5 & 1.583333 & BinaryTree\\\\\n",
       "\t6 & 17 & 0.5839233 & 7 & 5 & 1.600000 & BinaryTree\\\\\n",
       "\\end{tabular}\n"
      ],
      "text/markdown": [
       "\n",
       "A data.frame: 6 × 6\n",
       "\n",
       "| <!--/--> | n_nodes &lt;int&gt; | c_factor &lt;dbl&gt; | max_depth &lt;int&gt; | med_depth &lt;dbl&gt; | branching_factor &lt;dbl&gt; | source &lt;chr&gt; |\n",
       "|---|---|---|---|---|---|---|\n",
       "| 1 | 17 | 0.5109329 | 8 | 4 | 1.600000 | BinaryTree |\n",
       "| 2 | 20 | 0.4802142 | 9 | 5 | 1.583333 | BinaryTree |\n",
       "| 3 | 24 | 0.6549946 | 7 | 5 | 1.769231 | BinaryTree |\n",
       "| 4 | 20 | 0.6174183 | 7 | 5 | 1.461538 | BinaryTree |\n",
       "| 5 | 20 | 0.6174183 | 7 | 5 | 1.583333 | BinaryTree |\n",
       "| 6 | 17 | 0.5839233 | 7 | 5 | 1.600000 | BinaryTree |\n",
       "\n"
      ],
      "text/plain": [
       "  n_nodes c_factor  max_depth med_depth branching_factor source    \n",
       "1 17      0.5109329 8         4         1.600000         BinaryTree\n",
       "2 20      0.4802142 9         5         1.583333         BinaryTree\n",
       "3 24      0.6549946 7         5         1.769231         BinaryTree\n",
       "4 20      0.6174183 7         5         1.461538         BinaryTree\n",
       "5 20      0.6174183 7         5         1.583333         BinaryTree\n",
       "6 17      0.5839233 7         5         1.600000         BinaryTree"
      ]
     },
     "metadata": {},
     "output_type": "display_data"
    }
   ],
   "source": [
    "btree_inputs <- read.csv(\"btree_props.csv\")[-1]\n",
    "btree_inputs <- btree_inputs %>% mutate(source = \"BinaryTree\")\n",
    "fontana_inputs <- read.csv(\"fontana_props.csv\")[-1]\n",
    "fontana_inputs <- fontana_inputs %>% mutate(source = \"Fontana\")\n",
    "fontana_inputs <- fontana_inputs %>% sample_n(nrow(btree_inputs))\n",
    "all_inputs = rbind(btree_inputs, fontana_inputs)\n",
    "head(all_inputs)"
   ]
  },
  {
   "cell_type": "code",
   "execution_count": 45,
   "metadata": {
    "vscode": {
     "languageId": "r"
    }
   },
   "outputs": [
    {
     "name": "stderr",
     "output_type": "stream",
     "text": [
      "\u001b[1m\u001b[22m`stat_bin()` using `bins = 30`. Pick better value with `binwidth`.\n"
     ]
    },
    {
     "name": "stderr",
     "output_type": "stream",
     "text": [
      "\u001b[1m\u001b[22m`stat_bin()` using `bins = 30`. Pick better value with `binwidth`.\n",
      "\u001b[1m\u001b[22m`stat_bin()` using `bins = 30`. Pick better value with `binwidth`.\n",
      "\u001b[1m\u001b[22m`stat_bin()` using `bins = 30`. Pick better value with `binwidth`.\n",
      "\u001b[1m\u001b[22m`stat_bin()` using `bins = 30`. Pick better value with `binwidth`.\n"
     ]
    },
    {
     "data": {
      "image/png": "[encoded data removed]",
      "text/plain": [
       "plot without title"
      ]
     },
     "metadata": {
      "image/png": {
       "height": 420,
       "width": 420
      }
     },
     "output_type": "display_data"
    }
   ],
   "source": [
    "p1 <- ggplot(all_inputs) + \n",
    "        geom_histogram(aes(x = c_factor, \n",
    "                            fill=source), position = \"dodge\")+\n",
    "                            theme_bw(base_size = 11)\n",
    "p2 <- ggplot(all_inputs) + \n",
    "        geom_histogram(aes(x = branching_factor, \n",
    "                            fill=source), position = \"dodge\")+\n",
    "                            theme_bw(base_size = 11)\n",
    "p3 <- ggplot(all_inputs) + \n",
    "        geom_histogram(aes(x = n_nodes, \n",
    "                            fill=source), position = \"dodge\")+\n",
    "                            theme_bw(base_size = 11)\n",
    "p4 <- ggplot(all_inputs) + \n",
    "        geom_histogram(aes(x = med_depth, \n",
    "                            fill=source), position = \"dodge\") +\n",
    "                            theme_bw(base_size = 11)\n",
    "pall <- ggarrange(p1, p2, p3, p4, ncol = 2, nrow = 2, common.legend = TRUE)\n",
    "pall\n",
    "\n",
    "ggsave(\"BTree_vs_Fontana_Tre_Prop_hist.png\", pall, width = 183, height =183, units = \"mm\")"
   ]
  },
  {
   "cell_type": "code",
   "execution_count": 35,
   "metadata": {
    "vscode": {
     "languageId": "r"
    }
   },
   "outputs": [
    {
     "data": {
      "image/png": "[encoded data removed]",
      "text/plain": [
       "plot without title"
      ]
     },
     "metadata": {
      "image/png": {
       "height": 420,
       "width": 420
      }
     },
     "output_type": "display_data"
    },
    {
     "data": {
      "image/png": "[encoded data removed]",
      "text/plain": [
       "plot without title"
      ]
     },
     "metadata": {
      "image/png": {
       "height": 420,
       "width": 420
      }
     },
     "output_type": "display_data"
    },
    {
     "name": "stderr",
     "output_type": "stream",
     "text": [
      "Warning message:\n",
      "\"\u001b[1m\u001b[22mComputation failed in `stat_density2d()`\n",
      "Caused by error in `MASS::kde2d()`:\n",
      "\u001b[33m!\u001b[39m bandwidths must be strictly positive\"\n",
      "Warning message in min(x, na.rm = na.rm):\n",
      "\"no non-missing arguments to min; returning Inf\"\n",
      "Warning message in max(x, na.rm = na.rm):\n",
      "\"no non-missing arguments to max; returning -Inf\"\n",
      "Warning message in max(f):\n",
      "\"no non-missing arguments to max; returning -Inf\"\n",
      "ERROR while rich displaying an object: \u001b[1m\u001b[33mError\u001b[39m in `geom_density_2d()`:\u001b[22m\n",
      "\u001b[1m\u001b[22m\u001b[33m!\u001b[39m Problem while computing stat.\n",
      "\u001b[36mi\u001b[39m Error occurred in the 1st layer.\n",
      "\u001b[1mCaused by error in `seq_len()`:\u001b[22m\n",
      "\u001b[33m!\u001b[39m argument must be coercible to non-negative integer\n",
      "\n",
      "Traceback:\n",
      "1. tryCatch(withCallingHandlers({\n",
      " .     if (!mime %in% names(repr::mime2repr)) \n",
      " .         stop(\"No repr_* for mimetype \", mime, \" in repr::mime2repr\")\n",
      " .     rpr <- repr::mime2repr[[mime]](obj)\n",
      " .     if (is.null(rpr)) \n",
      " .         return(NULL)\n",
      " .     prepare_content(is.raw(rpr), rpr)\n",
      " . }, error = error_handler), error = outer_handler)\n",
      "2. tryCatchList(expr, classes, parentenv, handlers)\n",
      "3. tryCatchOne(expr, names, parentenv, handlers[[1L]])\n",
      "4. doTryCatch(return(expr), name, parentenv, handler)\n",
      "5. withCallingHandlers({\n",
      " .     if (!mime %in% names(repr::mime2repr)) \n",
      " .         stop(\"No repr_* for mimetype \", mime, \" in repr::mime2repr\")\n",
      " .     rpr <- repr::mime2repr[[mime]](obj)\n",
      " .     if (is.null(rpr)) \n",
      " .         return(NULL)\n",
      " .     prepare_content(is.raw(rpr), rpr)\n",
      " . }, error = error_handler)\n",
      "6. repr::mime2repr[[mime]](obj)\n",
      "7. repr_text.default(obj)\n",
      "8. paste(capture.output(print(obj)), collapse = \"\\n\")\n",
      "9. capture.output(print(obj))\n",
      "10. withVisible(...elt(i))\n",
      "11. print(obj)\n",
      "12. print.ggplot(obj)\n",
      "13. ggplot_build(x)\n",
      "14. ggplot_build.ggplot(x)\n",
      "15. by_layer(function(l, d) l$compute_statistic(d, layout), layers, \n",
      "  .     data, \"computing stat\")\n",
      "16. try_fetch(for (i in seq_along(data)) {\n",
      "  .     out[[i]] <- f(l = layers[[i]], d = data[[i]])\n",
      "  . }, error = function(cnd) {\n",
      "  .     cli::cli_abort(c(\"Problem while {step}.\", i = \"Error occurred in the {ordinal(i)} layer.\"), \n",
      "  .         call = layers[[i]]$constructor, parent = cnd)\n",
      "  . })\n",
      "17. tryCatch(withCallingHandlers(expr, condition = function(cnd) {\n",
      "  .     {\n",
      "  .         .__handler_frame__. <- TRUE\n",
      "  .         .__setup_frame__. <- frame\n",
      "  .         if (inherits(cnd, \"message\")) {\n",
      "  .             except <- c(\"warning\", \"error\")\n",
      "  .         }\n",
      "  .         else if (inherits(cnd, \"warning\")) {\n",
      "  .             except <- \"error\"\n",
      "  .         }\n",
      "  .         else {\n",
      "  .             except <- \"\"\n",
      "  .         }\n",
      "  .     }\n",
      "  .     while (!is_null(cnd)) {\n",
      "  .         if (inherits(cnd, \"error\")) {\n",
      "  .             out <- handlers[[1L]](cnd)\n",
      "  .             if (!inherits(out, \"rlang_zap\")) \n",
      "  .                 throw(out)\n",
      "  .         }\n",
      "  .         inherit <- .subset2(.subset2(cnd, \"rlang\"), \"inherit\")\n",
      "  .         if (is_false(inherit)) {\n",
      "  .             return()\n",
      "  .         }\n",
      "  .         cnd <- .subset2(cnd, \"parent\")\n",
      "  .     }\n",
      "  . }), stackOverflowError = handlers[[1L]])\n",
      "18. tryCatchList(expr, classes, parentenv, handlers)\n",
      "19. tryCatchOne(expr, names, parentenv, handlers[[1L]])\n",
      "20. doTryCatch(return(expr), name, parentenv, handler)\n",
      "21. withCallingHandlers(expr, condition = function(cnd) {\n",
      "  .     {\n",
      "  .         .__handler_frame__. <- TRUE\n",
      "  .         .__setup_frame__. <- frame\n",
      "  .         if (inherits(cnd, \"message\")) {\n",
      "  .             except <- c(\"warning\", \"error\")\n",
      "  .         }\n",
      "  .         else if (inherits(cnd, \"warning\")) {\n",
      "  .             except <- \"error\"\n",
      "  .         }\n",
      "  .         else {\n",
      "  .             except <- \"\"\n",
      "  .         }\n",
      "  .     }\n",
      "  .     while (!is_null(cnd)) {\n",
      "  .         if (inherits(cnd, \"error\")) {\n",
      "  .             out <- handlers[[1L]](cnd)\n",
      "  .             if (!inherits(out, \"rlang_zap\")) \n",
      "  .                 throw(out)\n",
      "  .         }\n",
      "  .         inherit <- .subset2(.subset2(cnd, \"rlang\"), \"inherit\")\n",
      "  .         if (is_false(inherit)) {\n",
      "  .             return()\n",
      "  .         }\n",
      "  .         cnd <- .subset2(cnd, \"parent\")\n",
      "  .     }\n",
      "  . })\n",
      "22. f(l = layers[[i]], d = data[[i]])\n",
      "23. l$compute_statistic(d, layout)\n",
      "24. compute_statistic(..., self = self)\n",
      "25. self$stat$compute_layer(data, self$computed_stat_params, layout)\n",
      "26. compute_layer(..., self = self)\n",
      "27. dapply(data, \"PANEL\", function(data) {\n",
      "  .     scales <- layout$get_scales(data$PANEL[1])\n",
      "  .     try_fetch(inject(contour_stat$compute_panel(data = data, \n",
      "  .         scales = scales, !!!params)), error = function(cnd) {\n",
      "  .         cli::cli_warn(\"Computation failed in {.fn {snake_class(self)}}\", \n",
      "  .             parent = cnd)\n",
      "  .         data_frame0()\n",
      "  .     })\n",
      "  . })\n",
      "28. split_with_index(seq_len(nrow(df)), ids)\n",
      "29. .handleSimpleError(function (cnd) \n",
      "  . {\n",
      "  .     {\n",
      "  .         .__handler_frame__. <- TRUE\n",
      "  .         .__setup_frame__. <- frame\n",
      "  .         if (inherits(cnd, \"message\")) {\n",
      "  .             except <- c(\"warning\", \"error\")\n",
      "  .         }\n",
      "  .         else if (inherits(cnd, \"warning\")) {\n",
      "  .             except <- \"error\"\n",
      "  .         }\n",
      "  .         else {\n",
      "  .             except <- \"\"\n",
      "  .         }\n",
      "  .     }\n",
      "  .     while (!is_null(cnd)) {\n",
      "  .         if (inherits(cnd, \"error\")) {\n",
      "  .             out <- handlers[[1L]](cnd)\n",
      "  .             if (!inherits(out, \"rlang_zap\")) \n",
      "  .                 throw(out)\n",
      "  .         }\n",
      "  .         inherit <- .subset2(.subset2(cnd, \"rlang\"), \"inherit\")\n",
      "  .         if (is_false(inherit)) {\n",
      "  .             return()\n",
      "  .         }\n",
      "  .         cnd <- .subset2(cnd, \"parent\")\n",
      "  .     }\n",
      "  . }, \"argument must be coercible to non-negative integer\", base::quote(seq_len(n)))\n",
      "30. h(simpleError(msg, call))\n",
      "31. handlers[[1L]](cnd)\n",
      "32. cli::cli_abort(c(\"Problem while {step}.\", i = \"Error occurred in the {ordinal(i)} layer.\"), \n",
      "  .     call = layers[[i]]$constructor, parent = cnd)\n",
      "33. rlang::abort(message, ..., call = call, use_cli_format = TRUE, \n",
      "  .     .frame = .frame)\n",
      "34. signal_abort(cnd, .file)\n",
      "Warning message:\n",
      "\"\u001b[1m\u001b[22mComputation failed in `stat_density2d()`\n",
      "Caused by error in `MASS::kde2d()`:\n",
      "\u001b[33m!\u001b[39m bandwidths must be strictly positive\"\n",
      "Warning message in min(x, na.rm = na.rm):\n",
      "\"no non-missing arguments to min; returning Inf\"\n",
      "Warning message in max(x, na.rm = na.rm):\n",
      "\"no non-missing arguments to max; returning -Inf\"\n",
      "Warning message in max(f):\n",
      "\"no non-missing arguments to max; returning -Inf\"\n",
      "ERROR while rich displaying an object: \u001b[1m\u001b[33mError\u001b[39m in `geom_density_2d()`:\u001b[22m\n",
      "\u001b[1m\u001b[22m\u001b[33m!\u001b[39m Problem while computing stat.\n",
      "\u001b[36mi\u001b[39m Error occurred in the 1st layer.\n",
      "\u001b[1mCaused by error in `seq_len()`:\u001b[22m\n",
      "\u001b[33m!\u001b[39m argument must be coercible to non-negative integer\n",
      "\n",
      "Traceback:\n",
      "1. tryCatch(withCallingHandlers({\n",
      " .     if (!mime %in% names(repr::mime2repr)) \n",
      " .         stop(\"No repr_* for mimetype \", mime, \" in repr::mime2repr\")\n",
      " .     rpr <- repr::mime2repr[[mime]](obj)\n",
      " .     if (is.null(rpr)) \n",
      " .         return(NULL)\n",
      " .     prepare_content(is.raw(rpr), rpr)\n",
      " . }, error = error_handler), error = outer_handler)\n",
      "2. tryCatchList(expr, classes, parentenv, handlers)\n",
      "3. tryCatchOne(expr, names, parentenv, handlers[[1L]])\n",
      "4. doTryCatch(return(expr), name, parentenv, handler)\n",
      "5. withCallingHandlers({\n",
      " .     if (!mime %in% names(repr::mime2repr)) \n",
      " .         stop(\"No repr_* for mimetype \", mime, \" in repr::mime2repr\")\n",
      " .     rpr <- repr::mime2repr[[mime]](obj)\n",
      " .     if (is.null(rpr)) \n",
      " .         return(NULL)\n",
      " .     prepare_content(is.raw(rpr), rpr)\n",
      " . }, error = error_handler)\n",
      "6. repr::mime2repr[[mime]](obj)\n",
      "7. repr_text.default(obj)\n",
      "8. paste(capture.output(print(obj)), collapse = \"\\n\")\n",
      "9. capture.output(print(obj))\n",
      "10. withVisible(...elt(i))\n",
      "11. print(obj)\n",
      "12. print.ggplot(obj)\n",
      "13. ggplot_build(x)\n",
      "14. ggplot_build.ggplot(x)\n",
      "15. by_layer(function(l, d) l$compute_statistic(d, layout), layers, \n",
      "  .     data, \"computing stat\")\n",
      "16. try_fetch(for (i in seq_along(data)) {\n",
      "  .     out[[i]] <- f(l = layers[[i]], d = data[[i]])\n",
      "  . }, error = function(cnd) {\n",
      "  .     cli::cli_abort(c(\"Problem while {step}.\", i = \"Error occurred in the {ordinal(i)} layer.\"), \n",
      "  .         call = layers[[i]]$constructor, parent = cnd)\n",
      "  . })\n",
      "17. tryCatch(withCallingHandlers(expr, condition = function(cnd) {\n",
      "  .     {\n",
      "  .         .__handler_frame__. <- TRUE\n",
      "  .         .__setup_frame__. <- frame\n",
      "  .         if (inherits(cnd, \"message\")) {\n",
      "  .             except <- c(\"warning\", \"error\")\n",
      "  .         }\n",
      "  .         else if (inherits(cnd, \"warning\")) {\n",
      "  .             except <- \"error\"\n",
      "  .         }\n",
      "  .         else {\n",
      "  .             except <- \"\"\n",
      "  .         }\n",
      "  .     }\n",
      "  .     while (!is_null(cnd)) {\n",
      "  .         if (inherits(cnd, \"error\")) {\n",
      "  .             out <- handlers[[1L]](cnd)\n",
      "  .             if (!inherits(out, \"rlang_zap\")) \n",
      "  .                 throw(out)\n",
      "  .         }\n",
      "  .         inherit <- .subset2(.subset2(cnd, \"rlang\"), \"inherit\")\n",
      "  .         if (is_false(inherit)) {\n",
      "  .             return()\n",
      "  .         }\n",
      "  .         cnd <- .subset2(cnd, \"parent\")\n",
      "  .     }\n",
      "  . }), stackOverflowError = handlers[[1L]])\n",
      "18. tryCatchList(expr, classes, parentenv, handlers)\n",
      "19. tryCatchOne(expr, names, parentenv, handlers[[1L]])\n",
      "20. doTryCatch(return(expr), name, parentenv, handler)\n",
      "21. withCallingHandlers(expr, condition = function(cnd) {\n",
      "  .     {\n",
      "  .         .__handler_frame__. <- TRUE\n",
      "  .         .__setup_frame__. <- frame\n",
      "  .         if (inherits(cnd, \"message\")) {\n",
      "  .             except <- c(\"warning\", \"error\")\n",
      "  .         }\n",
      "  .         else if (inherits(cnd, \"warning\")) {\n",
      "  .             except <- \"error\"\n",
      "  .         }\n",
      "  .         else {\n",
      "  .             except <- \"\"\n",
      "  .         }\n",
      "  .     }\n",
      "  .     while (!is_null(cnd)) {\n",
      "  .         if (inherits(cnd, \"error\")) {\n",
      "  .             out <- handlers[[1L]](cnd)\n",
      "  .             if (!inherits(out, \"rlang_zap\")) \n",
      "  .                 throw(out)\n",
      "  .         }\n",
      "  .         inherit <- .subset2(.subset2(cnd, \"rlang\"), \"inherit\")\n",
      "  .         if (is_false(inherit)) {\n",
      "  .             return()\n",
      "  .         }\n",
      "  .         cnd <- .subset2(cnd, \"parent\")\n",
      "  .     }\n",
      "  . })\n",
      "22. f(l = layers[[i]], d = data[[i]])\n",
      "23. l$compute_statistic(d, layout)\n",
      "24. compute_statistic(..., self = self)\n",
      "25. self$stat$compute_layer(data, self$computed_stat_params, layout)\n",
      "26. compute_layer(..., self = self)\n",
      "27. dapply(data, \"PANEL\", function(data) {\n",
      "  .     scales <- layout$get_scales(data$PANEL[1])\n",
      "  .     try_fetch(inject(contour_stat$compute_panel(data = data, \n",
      "  .         scales = scales, !!!params)), error = function(cnd) {\n",
      "  .         cli::cli_warn(\"Computation failed in {.fn {snake_class(self)}}\", \n",
      "  .             parent = cnd)\n",
      "  .         data_frame0()\n",
      "  .     })\n",
      "  . })\n",
      "28. split_with_index(seq_len(nrow(df)), ids)\n",
      "29. .handleSimpleError(function (cnd) \n",
      "  . {\n",
      "  .     {\n",
      "  .         .__handler_frame__. <- TRUE\n",
      "  .         .__setup_frame__. <- frame\n",
      "  .         if (inherits(cnd, \"message\")) {\n",
      "  .             except <- c(\"warning\", \"error\")\n",
      "  .         }\n",
      "  .         else if (inherits(cnd, \"warning\")) {\n",
      "  .             except <- \"error\"\n",
      "  .         }\n",
      "  .         else {\n",
      "  .             except <- \"\"\n",
      "  .         }\n",
      "  .     }\n",
      "  .     while (!is_null(cnd)) {\n",
      "  .         if (inherits(cnd, \"error\")) {\n",
      "  .             out <- handlers[[1L]](cnd)\n",
      "  .             if (!inherits(out, \"rlang_zap\")) \n",
      "  .                 throw(out)\n",
      "  .         }\n",
      "  .         inherit <- .subset2(.subset2(cnd, \"rlang\"), \"inherit\")\n",
      "  .         if (is_false(inherit)) {\n",
      "  .             return()\n",
      "  .         }\n",
      "  .         cnd <- .subset2(cnd, \"parent\")\n",
      "  .     }\n",
      "  . }, \"argument must be coercible to non-negative integer\", base::quote(seq_len(n)))\n",
      "30. h(simpleError(msg, call))\n",
      "31. handlers[[1L]](cnd)\n",
      "32. cli::cli_abort(c(\"Problem while {step}.\", i = \"Error occurred in the {ordinal(i)} layer.\"), \n",
      "  .     call = layers[[i]]$constructor, parent = cnd)\n",
      "33. rlang::abort(message, ..., call = call, use_cli_format = TRUE, \n",
      "  .     .frame = .frame)\n",
      "34. signal_abort(cnd, .file)\n",
      "Warning message:\n",
      "\"\u001b[1m\u001b[22mComputation failed in `stat_density2d()`\n",
      "Caused by error in `MASS::kde2d()`:\n",
      "\u001b[33m!\u001b[39m bandwidths must be strictly positive\"\n",
      "Warning message in min(x, na.rm = na.rm):\n",
      "\"no non-missing arguments to min; returning Inf\"\n",
      "Warning message in max(x, na.rm = na.rm):\n",
      "\"no non-missing arguments to max; returning -Inf\"\n",
      "Warning message in max(f):\n",
      "\"no non-missing arguments to max; returning -Inf\"\n",
      "ERROR while rich displaying an object: \u001b[1m\u001b[33mError\u001b[39m in `geom_density_2d()`:\u001b[22m\n",
      "\u001b[1m\u001b[22m\u001b[33m!\u001b[39m Problem while computing stat.\n",
      "\u001b[36mi\u001b[39m Error occurred in the 1st layer.\n",
      "\u001b[1mCaused by error in `seq_len()`:\u001b[22m\n",
      "\u001b[33m!\u001b[39m argument must be coercible to non-negative integer\n",
      "\n",
      "Traceback:\n",
      "1. tryCatch(withCallingHandlers({\n",
      " .     if (!mime %in% names(repr::mime2repr)) \n",
      " .         stop(\"No repr_* for mimetype \", mime, \" in repr::mime2repr\")\n",
      " .     rpr <- repr::mime2repr[[mime]](obj)\n",
      " .     if (is.null(rpr)) \n",
      " .         return(NULL)\n",
      " .     prepare_content(is.raw(rpr), rpr)\n",
      " . }, error = error_handler), error = outer_handler)\n",
      "2. tryCatchList(expr, classes, parentenv, handlers)\n",
      "3. tryCatchOne(expr, names, parentenv, handlers[[1L]])\n",
      "4. doTryCatch(return(expr), name, parentenv, handler)\n",
      "5. withCallingHandlers({\n",
      " .     if (!mime %in% names(repr::mime2repr)) \n",
      " .         stop(\"No repr_* for mimetype \", mime, \" in repr::mime2repr\")\n",
      " .     rpr <- repr::mime2repr[[mime]](obj)\n",
      " .     if (is.null(rpr)) \n",
      " .         return(NULL)\n",
      " .     prepare_content(is.raw(rpr), rpr)\n",
      " . }, error = error_handler)\n",
      "6. repr::mime2repr[[mime]](obj)\n",
      "7. repr_text.default(obj)\n",
      "8. paste(capture.output(print(obj)), collapse = \"\\n\")\n",
      "9. capture.output(print(obj))\n",
      "10. withVisible(...elt(i))\n",
      "11. print(obj)\n",
      "12. print.ggplot(obj)\n",
      "13. ggplot_build(x)\n",
      "14. ggplot_build.ggplot(x)\n",
      "15. by_layer(function(l, d) l$compute_statistic(d, layout), layers, \n",
      "  .     data, \"computing stat\")\n",
      "16. try_fetch(for (i in seq_along(data)) {\n",
      "  .     out[[i]] <- f(l = layers[[i]], d = data[[i]])\n",
      "  . }, error = function(cnd) {\n",
      "  .     cli::cli_abort(c(\"Problem while {step}.\", i = \"Error occurred in the {ordinal(i)} layer.\"), \n",
      "  .         call = layers[[i]]$constructor, parent = cnd)\n",
      "  . })\n",
      "17. tryCatch(withCallingHandlers(expr, condition = function(cnd) {\n",
      "  .     {\n",
      "  .         .__handler_frame__. <- TRUE\n",
      "  .         .__setup_frame__. <- frame\n",
      "  .         if (inherits(cnd, \"message\")) {\n",
      "  .             except <- c(\"warning\", \"error\")\n",
      "  .         }\n",
      "  .         else if (inherits(cnd, \"warning\")) {\n",
      "  .             except <- \"error\"\n",
      "  .         }\n",
      "  .         else {\n",
      "  .             except <- \"\"\n",
      "  .         }\n",
      "  .     }\n",
      "  .     while (!is_null(cnd)) {\n",
      "  .         if (inherits(cnd, \"error\")) {\n",
      "  .             out <- handlers[[1L]](cnd)\n",
      "  .             if (!inherits(out, \"rlang_zap\")) \n",
      "  .                 throw(out)\n",
      "  .         }\n",
      "  .         inherit <- .subset2(.subset2(cnd, \"rlang\"), \"inherit\")\n",
      "  .         if (is_false(inherit)) {\n",
      "  .             return()\n",
      "  .         }\n",
      "  .         cnd <- .subset2(cnd, \"parent\")\n",
      "  .     }\n",
      "  . }), stackOverflowError = handlers[[1L]])\n",
      "18. tryCatchList(expr, classes, parentenv, handlers)\n",
      "19. tryCatchOne(expr, names, parentenv, handlers[[1L]])\n",
      "20. doTryCatch(return(expr), name, parentenv, handler)\n",
      "21. withCallingHandlers(expr, condition = function(cnd) {\n",
      "  .     {\n",
      "  .         .__handler_frame__. <- TRUE\n",
      "  .         .__setup_frame__. <- frame\n",
      "  .         if (inherits(cnd, \"message\")) {\n",
      "  .             except <- c(\"warning\", \"error\")\n",
      "  .         }\n",
      "  .         else if (inherits(cnd, \"warning\")) {\n",
      "  .             except <- \"error\"\n",
      "  .         }\n",
      "  .         else {\n",
      "  .             except <- \"\"\n",
      "  .         }\n",
      "  .     }\n",
      "  .     while (!is_null(cnd)) {\n",
      "  .         if (inherits(cnd, \"error\")) {\n",
      "  .             out <- handlers[[1L]](cnd)\n",
      "  .             if (!inherits(out, \"rlang_zap\")) \n",
      "  .                 throw(out)\n",
      "  .         }\n",
      "  .         inherit <- .subset2(.subset2(cnd, \"rlang\"), \"inherit\")\n",
      "  .         if (is_false(inherit)) {\n",
      "  .             return()\n",
      "  .         }\n",
      "  .         cnd <- .subset2(cnd, \"parent\")\n",
      "  .     }\n",
      "  . })\n",
      "22. f(l = layers[[i]], d = data[[i]])\n",
      "23. l$compute_statistic(d, layout)\n",
      "24. compute_statistic(..., self = self)\n",
      "25. self$stat$compute_layer(data, self$computed_stat_params, layout)\n",
      "26. compute_layer(..., self = self)\n",
      "27. dapply(data, \"PANEL\", function(data) {\n",
      "  .     scales <- layout$get_scales(data$PANEL[1])\n",
      "  .     try_fetch(inject(contour_stat$compute_panel(data = data, \n",
      "  .         scales = scales, !!!params)), error = function(cnd) {\n",
      "  .         cli::cli_warn(\"Computation failed in {.fn {snake_class(self)}}\", \n",
      "  .             parent = cnd)\n",
      "  .         data_frame0()\n",
      "  .     })\n",
      "  . })\n",
      "28. split_with_index(seq_len(nrow(df)), ids)\n",
      "29. .handleSimpleError(function (cnd) \n",
      "  . {\n",
      "  .     {\n",
      "  .         .__handler_frame__. <- TRUE\n",
      "  .         .__setup_frame__. <- frame\n",
      "  .         if (inherits(cnd, \"message\")) {\n",
      "  .             except <- c(\"warning\", \"error\")\n",
      "  .         }\n",
      "  .         else if (inherits(cnd, \"warning\")) {\n",
      "  .             except <- \"error\"\n",
      "  .         }\n",
      "  .         else {\n",
      "  .             except <- \"\"\n",
      "  .         }\n",
      "  .     }\n",
      "  .     while (!is_null(cnd)) {\n",
      "  .         if (inherits(cnd, \"error\")) {\n",
      "  .             out <- handlers[[1L]](cnd)\n",
      "  .             if (!inherits(out, \"rlang_zap\")) \n",
      "  .                 throw(out)\n",
      "  .         }\n",
      "  .         inherit <- .subset2(.subset2(cnd, \"rlang\"), \"inherit\")\n",
      "  .         if (is_false(inherit)) {\n",
      "  .             return()\n",
      "  .         }\n",
      "  .         cnd <- .subset2(cnd, \"parent\")\n",
      "  .     }\n",
      "  . }, \"argument must be coercible to non-negative integer\", base::quote(seq_len(n)))\n",
      "30. h(simpleError(msg, call))\n",
      "31. handlers[[1L]](cnd)\n",
      "32. cli::cli_abort(c(\"Problem while {step}.\", i = \"Error occurred in the {ordinal(i)} layer.\"), \n",
      "  .     call = layers[[i]]$constructor, parent = cnd)\n",
      "33. rlang::abort(message, ..., call = call, use_cli_format = TRUE, \n",
      "  .     .frame = .frame)\n",
      "34. signal_abort(cnd, .file)\n"
     ]
    },
    {
     "data": {
      "image/png": "[encoded data removed]",
      "text/plain": [
       "plot without title"
      ]
     },
     "metadata": {
      "image/png": {
       "height": 420,
       "width": 420
      }
     },
     "output_type": "display_data"
    }
   ],
   "source": [
    "ggplot(all_inputs) + \n",
    "    geom_density_2d(aes(x = c_factor, \n",
    "                            y =branching_factor,\n",
    "                            color=source))\n",
    "\n",
    "ggplot(all_inputs) + \n",
    "    geom_density_2d(aes(x = n_nodes, \n",
    "                            y =branching_factor,\n",
    "                            color=source))\n",
    "\n",
    "ggplot(all_inputs) + \n",
    "    geom_density_2d(aes(x = n_nodes, \n",
    "                            y =c_factor,\n",
    "                            color=source))\n",
    "\n",
    "ggplot(all_inputs) + \n",
    "    geom_density_2d(aes(x = n_nodes, \n",
    "                            y =med_depth,\n",
    "                            color=source))\n",
    "\n",
    "ggplot(all_inputs) + \n",
    "    geom_density_2d(aes(x = c_factor, \n",
    "                            y =med_depth,\n",
    "                            color=source))\n",
    "\n",
    "\n",
    "ggplot(all_inputs) + \n",
    "    geom_density_2d(aes(x = branching_factor, \n",
    "                            y =med_depth,\n",
    "                            color=source))"
   ]
  },
  {
   "cell_type": "code",
   "execution_count": null,
   "metadata": {
    "vscode": {
     "languageId": "r"
    }
   },
   "outputs": [],
   "source": []
  }
 ],
 "metadata": {
  "kernelspec": {
   "display_name": "R",
   "language": "R",
   "name": "ir"
  },
  "language_info": {
   "codemirror_mode": "r",
   "file_extension": ".r",
   "mimetype": "text/x-r-source",
   "name": "R",
   "pygments_lexer": "r",
   "version": "4.1.1"
  }
 },
 "nbformat": 4,
 "nbformat_minor": 2
}
