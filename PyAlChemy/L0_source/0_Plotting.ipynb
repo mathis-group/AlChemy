{
 "cells": [
  {
   "cell_type": "code",
   "execution_count": 4,
   "metadata": {
    "vscode": {
     "languageId": "r"
    }
   },
   "outputs": [],
   "source": [
    "library(tidyverse)\n",
    "library(ggdark)\n",
    "library(MASS)\n",
    "library(gghighlight)"
   ]
  },
  {
   "cell_type": "code",
   "execution_count": 5,
   "metadata": {
    "vscode": {
     "languageId": "r"
    }
   },
   "outputs": [],
   "source": [
    "all_perturbed_file = \"L0_hunt_analyzed_identity.csv\"\n",
    "l0_seed_file = \"L0_seeds.csv\""
   ]
  },
  {
   "cell_type": "code",
   "execution_count": 6,
   "metadata": {
    "vscode": {
     "languageId": "r"
    }
   },
   "outputs": [
    {
     "data": {
      "text/html": [
       "<style>\n",
       ".list-inline {list-style: none; margin:0; padding: 0}\n",
       ".list-inline>li {display: inline-block}\n",
       ".list-inline>li:not(:last-child)::after {content: \"\\00b7\"; padding: 0 .5ex}\n",
       "</style>\n",
       "<ol class=list-inline><li>'X'</li><li>'directory'</li><li>'name'</li><li>'random_seed'</li><li>'max_objects'</li><li>'n_collisions'</li><li>'output_freq'</li><li>'input_file'</li><li>'copy_allowed'</li><li>'heap'</li><li>'max_steps'</li><li>'symbol_table_size'</li><li>'stack_size'</li><li>'max_len_identifer'</li><li>'max_len_basis_types'</li><li>'var_prefix'</li><li>'error_file'</li><li>'max_depth'</li><li>'n_vars'</li><li>'bind_all_free_vars'</li><li>'p_range_app'</li><li>'p_range_abs'</li><li>'savename'</li></ol>\n"
      ],
      "text/latex": [
       "\\begin{enumerate*}\n",
       "\\item 'X'\n",
       "\\item 'directory'\n",
       "\\item 'name'\n",
       "\\item 'random\\_seed'\n",
       "\\item 'max\\_objects'\n",
       "\\item 'n\\_collisions'\n",
       "\\item 'output\\_freq'\n",
       "\\item 'input\\_file'\n",
       "\\item 'copy\\_allowed'\n",
       "\\item 'heap'\n",
       "\\item 'max\\_steps'\n",
       "\\item 'symbol\\_table\\_size'\n",
       "\\item 'stack\\_size'\n",
       "\\item 'max\\_len\\_identifer'\n",
       "\\item 'max\\_len\\_basis\\_types'\n",
       "\\item 'var\\_prefix'\n",
       "\\item 'error\\_file'\n",
       "\\item 'max\\_depth'\n",
       "\\item 'n\\_vars'\n",
       "\\item 'bind\\_all\\_free\\_vars'\n",
       "\\item 'p\\_range\\_app'\n",
       "\\item 'p\\_range\\_abs'\n",
       "\\item 'savename'\n",
       "\\end{enumerate*}\n"
      ],
      "text/markdown": [
       "1. 'X'\n",
       "2. 'directory'\n",
       "3. 'name'\n",
       "4. 'random_seed'\n",
       "5. 'max_objects'\n",
       "6. 'n_collisions'\n",
       "7. 'output_freq'\n",
       "8. 'input_file'\n",
       "9. 'copy_allowed'\n",
       "10. 'heap'\n",
       "11. 'max_steps'\n",
       "12. 'symbol_table_size'\n",
       "13. 'stack_size'\n",
       "14. 'max_len_identifer'\n",
       "15. 'max_len_basis_types'\n",
       "16. 'var_prefix'\n",
       "17. 'error_file'\n",
       "18. 'max_depth'\n",
       "19. 'n_vars'\n",
       "20. 'bind_all_free_vars'\n",
       "21. 'p_range_app'\n",
       "22. 'p_range_abs'\n",
       "23. 'savename'\n",
       "\n",
       "\n"
      ],
      "text/plain": [
       " [1] \"X\"                   \"directory\"           \"name\"               \n",
       " [4] \"random_seed\"         \"max_objects\"         \"n_collisions\"       \n",
       " [7] \"output_freq\"         \"input_file\"          \"copy_allowed\"       \n",
       "[10] \"heap\"                \"max_steps\"           \"symbol_table_size\"  \n",
       "[13] \"stack_size\"          \"max_len_identifer\"   \"max_len_basis_types\"\n",
       "[16] \"var_prefix\"          \"error_file\"          \"max_depth\"          \n",
       "[19] \"n_vars\"              \"bind_all_free_vars\"  \"p_range_app\"        \n",
       "[22] \"p_range_abs\"         \"savename\"           "
      ]
     },
     "metadata": {},
     "output_type": "display_data"
    },
    {
     "ename": "ERROR",
     "evalue": "Error in select(., bind_all_free_vars, savename, max_depth): unused arguments (bind_all_free_vars, savename, max_depth)\n",
     "output_type": "error",
     "traceback": [
      "Error in select(., bind_all_free_vars, savename, max_depth): unused arguments (bind_all_free_vars, savename, max_depth)\nTraceback:\n",
      "1. seed.df %>% select(bind_all_free_vars, savename, max_depth)"
     ]
    }
   ],
   "source": [
    "all.df <- read.csv(all_perturbed_file)\n",
    "seed.df <- read.csv(l0_seed_file)\n",
    "names(seed.df)\n",
    "free.vars.savenames <- seed.df %>% select(bind_all_free_vars, savename, max_depth)\n",
    "free.vars.savenames\n",
    "all.df <- all.df %>% left_join(free.vars.savenames)#,by= savename)\n"
   ]
  },
  {
   "cell_type": "code",
   "execution_count": null,
   "metadata": {
    "vscode": {
     "languageId": "r"
    }
   },
   "outputs": [
    {
     "data": {
      "text/html": [
       "<table class=\"dataframe\">\n",
       "<caption>A data.frame: 6 × 15</caption>\n",
       "<thead>\n",
       "\t<tr><th></th><th scope=col>X</th><th scope=col>count</th><th scope=col>pop_entropy</th><th scope=col>new_exprs</th><th scope=col>time_step</th><th scope=col>ave_num_vars</th><th scope=col>std_num_vars</th><th scope=col>med_num_vars</th><th scope=col>ave_expr_len</th><th scope=col>std_expr_len</th><th scope=col>med_expr_len</th><th scope=col>I_count</th><th scope=col>savename</th><th scope=col>bind_all_free_vars</th><th scope=col>max_depth</th></tr>\n",
       "\t<tr><th></th><th scope=col>&lt;int&gt;</th><th scope=col>&lt;dbl&gt;</th><th scope=col>&lt;dbl&gt;</th><th scope=col>&lt;dbl&gt;</th><th scope=col>&lt;int&gt;</th><th scope=col>&lt;dbl&gt;</th><th scope=col>&lt;dbl&gt;</th><th scope=col>&lt;dbl&gt;</th><th scope=col>&lt;dbl&gt;</th><th scope=col>&lt;dbl&gt;</th><th scope=col>&lt;dbl&gt;</th><th scope=col>&lt;int&gt;</th><th scope=col>&lt;chr&gt;</th><th scope=col>&lt;chr&gt;</th><th scope=col>&lt;int&gt;</th></tr>\n",
       "</thead>\n",
       "<tbody>\n",
       "\t<tr><th scope=row>1</th><td>0</td><td>1000</td><td>3.0000000</td><td>1000</td><td>0</td><td>4.232000</td><td>1.080822</td><td>4</td><td>19.22500</td><td> 5.399479</td><td>19.0</td><td> 1</td><td>run_data/-7832900027416432030.json</td><td>False</td><td>4</td></tr>\n",
       "\t<tr><th scope=row>2</th><td>1</td><td> 327</td><td>2.1803689</td><td> 187</td><td>1</td><td>4.293578</td><td>1.526340</td><td>4</td><td>20.16208</td><td>11.716374</td><td>18.0</td><td>21</td><td>run_data/-7832900027416432030.json</td><td>False</td><td>4</td></tr>\n",
       "\t<tr><th scope=row>3</th><td>2</td><td> 130</td><td>1.6692827</td><td>  29</td><td>2</td><td>4.400000</td><td>1.911906</td><td>4</td><td>19.23846</td><td>12.249210</td><td>16.5</td><td>39</td><td>run_data/-7832900027416432030.json</td><td>False</td><td>4</td></tr>\n",
       "\t<tr><th scope=row>4</th><td>3</td><td>  65</td><td>1.2859087</td><td>   7</td><td>3</td><td>4.430769</td><td>2.204675</td><td>4</td><td>19.00000</td><td>10.507140</td><td>18.0</td><td>17</td><td>run_data/-7832900027416432030.json</td><td>False</td><td>4</td></tr>\n",
       "\t<tr><th scope=row>5</th><td>4</td><td>  20</td><td>0.7807259</td><td>   1</td><td>4</td><td>5.550000</td><td>3.232259</td><td>5</td><td>22.65000</td><td>13.620848</td><td>18.0</td><td>13</td><td>run_data/-7832900027416432030.json</td><td>False</td><td>4</td></tr>\n",
       "\t<tr><th scope=row>6</th><td>5</td><td>  13</td><td>0.5628627</td><td>   0</td><td>5</td><td>5.461538</td><td>3.177212</td><td>5</td><td>20.92308</td><td>11.828658</td><td>18.0</td><td> 4</td><td>run_data/-7832900027416432030.json</td><td>False</td><td>4</td></tr>\n",
       "</tbody>\n",
       "</table>\n"
      ],
      "text/latex": [
       "A data.frame: 6 × 15\n",
       "\\begin{tabular}{r|lllllllllllllll}\n",
       "  & X & count & pop\\_entropy & new\\_exprs & time\\_step & ave\\_num\\_vars & std\\_num\\_vars & med\\_num\\_vars & ave\\_expr\\_len & std\\_expr\\_len & med\\_expr\\_len & I\\_count & savename & bind\\_all\\_free\\_vars & max\\_depth\\\\\n",
       "  & <int> & <dbl> & <dbl> & <dbl> & <int> & <dbl> & <dbl> & <dbl> & <dbl> & <dbl> & <dbl> & <int> & <chr> & <chr> & <int>\\\\\n",
       "\\hline\n",
       "\t1 & 0 & 1000 & 3.0000000 & 1000 & 0 & 4.232000 & 1.080822 & 4 & 19.22500 &  5.399479 & 19.0 &  1 & run\\_data/-7832900027416432030.json & False & 4\\\\\n",
       "\t2 & 1 &  327 & 2.1803689 &  187 & 1 & 4.293578 & 1.526340 & 4 & 20.16208 & 11.716374 & 18.0 & 21 & run\\_data/-7832900027416432030.json & False & 4\\\\\n",
       "\t3 & 2 &  130 & 1.6692827 &   29 & 2 & 4.400000 & 1.911906 & 4 & 19.23846 & 12.249210 & 16.5 & 39 & run\\_data/-7832900027416432030.json & False & 4\\\\\n",
       "\t4 & 3 &   65 & 1.2859087 &    7 & 3 & 4.430769 & 2.204675 & 4 & 19.00000 & 10.507140 & 18.0 & 17 & run\\_data/-7832900027416432030.json & False & 4\\\\\n",
       "\t5 & 4 &   20 & 0.7807259 &    1 & 4 & 5.550000 & 3.232259 & 5 & 22.65000 & 13.620848 & 18.0 & 13 & run\\_data/-7832900027416432030.json & False & 4\\\\\n",
       "\t6 & 5 &   13 & 0.5628627 &    0 & 5 & 5.461538 & 3.177212 & 5 & 20.92308 & 11.828658 & 18.0 &  4 & run\\_data/-7832900027416432030.json & False & 4\\\\\n",
       "\\end{tabular}\n"
      ],
      "text/markdown": [
       "\n",
       "A data.frame: 6 × 15\n",
       "\n",
       "| <!--/--> | X &lt;int&gt; | count &lt;dbl&gt; | pop_entropy &lt;dbl&gt; | new_exprs &lt;dbl&gt; | time_step &lt;int&gt; | ave_num_vars &lt;dbl&gt; | std_num_vars &lt;dbl&gt; | med_num_vars &lt;dbl&gt; | ave_expr_len &lt;dbl&gt; | std_expr_len &lt;dbl&gt; | med_expr_len &lt;dbl&gt; | I_count &lt;int&gt; | savename &lt;chr&gt; | bind_all_free_vars &lt;chr&gt; | max_depth &lt;int&gt; |\n",
       "|---|---|---|---|---|---|---|---|---|---|---|---|---|---|---|---|\n",
       "| 1 | 0 | 1000 | 3.0000000 | 1000 | 0 | 4.232000 | 1.080822 | 4 | 19.22500 |  5.399479 | 19.0 |  1 | run_data/-7832900027416432030.json | False | 4 |\n",
       "| 2 | 1 |  327 | 2.1803689 |  187 | 1 | 4.293578 | 1.526340 | 4 | 20.16208 | 11.716374 | 18.0 | 21 | run_data/-7832900027416432030.json | False | 4 |\n",
       "| 3 | 2 |  130 | 1.6692827 |   29 | 2 | 4.400000 | 1.911906 | 4 | 19.23846 | 12.249210 | 16.5 | 39 | run_data/-7832900027416432030.json | False | 4 |\n",
       "| 4 | 3 |   65 | 1.2859087 |    7 | 3 | 4.430769 | 2.204675 | 4 | 19.00000 | 10.507140 | 18.0 | 17 | run_data/-7832900027416432030.json | False | 4 |\n",
       "| 5 | 4 |   20 | 0.7807259 |    1 | 4 | 5.550000 | 3.232259 | 5 | 22.65000 | 13.620848 | 18.0 | 13 | run_data/-7832900027416432030.json | False | 4 |\n",
       "| 6 | 5 |   13 | 0.5628627 |    0 | 5 | 5.461538 | 3.177212 | 5 | 20.92308 | 11.828658 | 18.0 |  4 | run_data/-7832900027416432030.json | False | 4 |\n",
       "\n"
      ],
      "text/plain": [
       "  X count pop_entropy new_exprs time_step ave_num_vars std_num_vars\n",
       "1 0 1000  3.0000000   1000      0         4.232000     1.080822    \n",
       "2 1  327  2.1803689    187      1         4.293578     1.526340    \n",
       "3 2  130  1.6692827     29      2         4.400000     1.911906    \n",
       "4 3   65  1.2859087      7      3         4.430769     2.204675    \n",
       "5 4   20  0.7807259      1      4         5.550000     3.232259    \n",
       "6 5   13  0.5628627      0      5         5.461538     3.177212    \n",
       "  med_num_vars ave_expr_len std_expr_len med_expr_len I_count\n",
       "1 4            19.22500      5.399479    19.0          1     \n",
       "2 4            20.16208     11.716374    18.0         21     \n",
       "3 4            19.23846     12.249210    16.5         39     \n",
       "4 4            19.00000     10.507140    18.0         17     \n",
       "5 5            22.65000     13.620848    18.0         13     \n",
       "6 5            20.92308     11.828658    18.0          4     \n",
       "  savename                           bind_all_free_vars max_depth\n",
       "1 run_data/-7832900027416432030.json False              4        \n",
       "2 run_data/-7832900027416432030.json False              4        \n",
       "3 run_data/-7832900027416432030.json False              4        \n",
       "4 run_data/-7832900027416432030.json False              4        \n",
       "5 run_data/-7832900027416432030.json False              4        \n",
       "6 run_data/-7832900027416432030.json False              4        "
      ]
     },
     "metadata": {},
     "output_type": "display_data"
    }
   ],
   "source": [
    "head(all.df)"
   ]
  },
  {
   "cell_type": "code",
   "execution_count": null,
   "metadata": {
    "vscode": {
     "languageId": "r"
    }
   },
   "outputs": [],
   "source": [
    "all.df <- all.df %>% filter(bind_all_free_vars == \"True\")"
   ]
  },
  {
   "cell_type": "code",
   "execution_count": 7,
   "metadata": {
    "vscode": {
     "languageId": "r"
    }
   },
   "outputs": [
    {
     "data": {
      "text/html": [
       "290"
      ],
      "text/latex": [
       "290"
      ],
      "text/markdown": [
       "290"
      ],
      "text/plain": [
       "[1] 290"
      ]
     },
     "metadata": {},
     "output_type": "display_data"
    }
   ],
   "source": [
    "length(unique(all.df$savename))"
   ]
  },
  {
   "cell_type": "code",
   "execution_count": 17,
   "metadata": {
    "vscode": {
     "languageId": "r"
    }
   },
   "outputs": [
    {
     "data": {
      "image/png": "[encoded data removed]",
      "text/plain": [
       "plot without title"
      ]
     },
     "metadata": {
      "image/png": {
       "height": 420,
       "width": 420
      }
     },
     "output_type": "display_data"
    }
   ],
   "source": [
    "scientific_10 = function(x) {\n",
    "  ifelse(\n",
    "    x==0, \"0\",\n",
    "    parse(text = sub(\"e[+]?\", \" %*% 10^\", scales::scientific_format()(x)))\n",
    "  )\n",
    "} \n",
    "\n",
    "unique.runs <- sample(unique(all.df$savename), 8)\n",
    "ave.df <- all.df %>% \n",
    "            filter(time_step >  502) %>% \n",
    "            group_by(savename) %>%\n",
    "            summarise(pop_entropy = mean(pop_entropy), med_expr_len = mean(med_expr_len))\n",
    "\n",
    "\n",
    "\n",
    "p <- ggplot(all.df %>% filter(time_step >  502, savename %in% unique.runs) ) +\n",
    "        # geom_point(aes(x = pop_entropy, y=med_expr_len),data = ave.df,\n",
    "        #             color = \"black\",\n",
    "        #             shape = 3,\n",
    "        #             alpha = 0.5) + \n",
    "        geom_point(aes(x = pop_entropy, y=med_expr_len,\n",
    "                      color=as.factor(savename),),\n",
    "                      alpha = 0.75) + \n",
    "        # facet_wrap(~savename) +\n",
    "        scale_color_viridis_d(option = \"H\") +\n",
    "        # scale_shape_manual(values = sample(1:24, 8, replace = FALSE)) + \n",
    "        labs(x = \"Population Entropy\", y =\"Expression Length\") + \n",
    "        theme_bw(base_size = 11) + \n",
    "        theme(legend.position = \"right\",plot.margin = margin(1, 4, 1, 1, \"mm\")) +\n",
    "        # guides(color=guide_legend(nrow=2, byrow= TRUE)) +\n",
    "        # scale_x_continuous(expand = c(0.01,0.01), label=scientific_10) +\n",
    "        # scale_y_continuous(expand = c(0,0,0,50))\n",
    "        theme(legend.position = \"none\")\n",
    "        # gghighlight(max(count) > 300) +\n",
    "        # scale_y_log10()\n",
    "p\n",
    "ggsave(\"L0_Phase_space_v1.svg\", p, width = 183*1/2, height = 247/4, units = \"mm\")"
   ]
  },
  {
   "cell_type": "code",
   "execution_count": 19,
   "metadata": {
    "vscode": {
     "languageId": "r"
    }
   },
   "outputs": [],
   "source": [
    "last_section <- all.df %>% filter(time_step > 501)\n",
    "last_ave <- last_section %>%\n",
    "        group_by(savename) %>%\n",
    "        summarize(med_count = median(count),\n",
    "                    med_I_count = median(I_count))"
   ]
  },
  {
   "cell_type": "code",
   "execution_count": 20,
   "metadata": {
    "vscode": {
     "languageId": "r"
    }
   },
   "outputs": [
    {
     "name": "stderr",
     "output_type": "stream",
     "text": [
      "Warning message:\n",
      "\"\u001b[1m\u001b[22mTransformation introduced infinite values in continuous y-axis\"\n",
      "Warning message:\n",
      "\"\u001b[1m\u001b[22mRemoved 39 rows containing missing values (`geom_bar()`).\"\n",
      "Warning message:\n",
      "\"\u001b[1m\u001b[22mTransformation introduced infinite values in continuous y-axis\"\n",
      "Warning message:\n",
      "\"\u001b[1m\u001b[22mRemoved 39 rows containing missing values (`geom_bar()`).\"\n"
     ]
    },
    {
     "data": {
      "image/png": "[encoded data removed]",
      "text/plain": [
       "plot without title"
      ]
     },
     "metadata": {
      "image/png": {
       "height": 420,
       "width": 420
      }
     },
     "output_type": "display_data"
    },
    {
     "data": {
      "image/png": "[encoded data removed]",
      "text/plain": [
       "plot without title"
      ]
     },
     "metadata": {
      "image/png": {
       "height": 420,
       "width": 420
      }
     },
     "output_type": "display_data"
    }
   ],
   "source": [
    "p <- ggplot(last_ave) + \n",
    "        geom_histogram((aes(x= med_count)), bins = 100) + \n",
    "        # geom_freqpoly((aes(x = med_count)), bins =100) + \n",
    "        labs(x = \"Unique Expressions\", y = \"Count\") +\n",
    "        theme_bw(base_size = 11) +\n",
    "        theme(legend.position = \"right\",plot.margin = margin(1, 1, 1, 1, \"mm\")) +\n",
    "        scale_x_continuous(expand = c(0.01,0.01)) +\n",
    "        scale_y_continuous(expand = c(0,0,0,0.1))\n",
    "ggsave(\"L0_count_histogram_v2.svg\", p, width = 183*1/2, height = 247/4, units = \"mm\")\n",
    "p\n",
    "q <- ggplot(last_ave) + \n",
    "        geom_histogram((aes(x= med_count)), bins = 100) + \n",
    "        # geom_freqpoly((aes(x = med_count)), bins =100) + \n",
    "        labs(x = element_blank(), y = element_blank()) +\n",
    "        theme_bw(base_size = 11) +\n",
    "        theme(legend.position = \"right\", plot.margin = margin(1, 1, 1, 1, \"mm\")) +\n",
    "        scale_x_log10(expand = c(0.01,0.01)) +\n",
    "        scale_y_log10(expand = c(0,0,0,0.1))\n",
    "ggsave(\"L0_count_histogram_inset_v2.svg\", q, width = (0.6)*183*1/2, height = (0.6)*247/4, units = \"mm\")\n",
    "q"
   ]
  },
  {
   "cell_type": "code",
   "execution_count": 36,
   "metadata": {
    "vscode": {
     "languageId": "r"
    }
   },
   "outputs": [
    {
     "data": {
      "text/html": [
       "'run_data/-4368936838771089273.json'"
      ],
      "text/latex": [
       "'run\\_data/-4368936838771089273.json'"
      ],
      "text/markdown": [
       "'run_data/-4368936838771089273.json'"
      ],
      "text/plain": [
       "[1] \"run_data/-4368936838771089273.json\""
      ]
     },
     "metadata": {},
     "output_type": "display_data"
    },
    {
     "data": {
      "image/png": "[encoded data removed]",
      "text/plain": [
       "plot without title"
      ]
     },
     "metadata": {
      "image/png": {
       "height": 420,
       "width": 420
      }
     },
     "output_type": "display_data"
    }
   ],
   "source": [
    "\n",
    "expected_run = last_ave %>% \n",
    "                filter(med_count == 1) %>%\n",
    "                sample_n(1)%>%\n",
    "                select(savename) %>%\n",
    "                unlist(use.names=FALSE)\n",
    "\n",
    "interesting_run = last_ave %>% \n",
    "                filter(med_count > 50) %>%\n",
    "                sample_n(1) %>%\n",
    "                select(savename) %>%\n",
    "                unlist(use.names=FALSE)\n",
    "interesting_run\n",
    "\n",
    "plotting_runs = c(expected_run, interesting_run)\n",
    "p <- ggplot(all.df %>% filter(time_step > 2, savename %in% plotting_runs)) +\n",
    "        geom_line(aes(x = 10000*time_step, y=count,\n",
    "                      group = savename,\n",
    "                      color= savename),\n",
    "                      ) + \n",
    "        labs(x = \"Time (Collisions)\", y =\"Unique Expressions\", color = element_blank()) + \n",
    "        theme_bw(base_size = 11) + \n",
    "        theme(legend.position = \"none\",plot.margin = margin(1, 4, 1, 1, \"mm\")) +\n",
    "        guides(color=guide_legend(nrow=2, byrow= TRUE)) +\n",
    "        scale_x_continuous(expand = c(0.01,0.01), label=scientific_10) +\n",
    "        scale_y_continuous(expand = c(0,0,0,50)) + \n",
    "        geom_vline(xintercept = 1000000*seq(5), linetype = \"dashed\", color = \"grey50\") +\n",
    "        scale_color_manual(values = c(\"#008080\", \"#FF7F50\"))\n",
    "        # theme(legend.position = \"none\") +\n",
    "        # gghighlight(max(count) > 300) +\n",
    "        # scale_y_log10()\n",
    "p\n"
   ]
  },
  {
   "cell_type": "code",
   "execution_count": 37,
   "metadata": {
    "vscode": {
     "languageId": "r"
    }
   },
   "outputs": [],
   "source": [
    "ggsave(\"L0_exmplar_unique_expressions_v2.svg\", p, width = 183*1/2, height = 247/4, units = \"mm\")"
   ]
  },
  {
   "cell_type": "code",
   "execution_count": 51,
   "metadata": {
    "vscode": {
     "languageId": "r"
    }
   },
   "outputs": [],
   "source": [
    "zoom.df.savenames <- all.df %>%\n",
    "            group_by(savename) %>%\n",
    "            summarise(med_count = median(count)) %>%\n",
    "            filter(med_count < 50)\n",
    "zoom.df <- all.df %>% filter(savename %in% zoom.df.savenames$savename)\n",
    "\n",
    "\n",
    "p <- ggplot(all.df %>% filter(time_step > 550), \n",
    "            aes(x = count, fill =as.factor(max_depth))) + \n",
    "        geom_histogram(position= \"dodge2\") +\n",
    "        facet_wrap(~max_depth) + \n",
    "        # geom_line(aes(x = 10000*time_step, y=count,\n",
    "        #               group = savename,\n",
    "        #               color=as.factor(max_depth)),\n",
    "        #               alpha = 0.75) + \n",
    "        # labs(x = \"Collision\", y =\"Unique Expressions\", color = \"Max Depth\") + \n",
    "        # theme_bw(base_size = 11) + \n",
    "        theme(legend.position = \"right\",plot.margin = margin(1, 4, 1, 1, \"mm\")) +\n",
    "        guides(color=guide_legend(nrow=2, byrow= TRUE)) \n",
    "        # scale_x_continuous(expand = c(0.01,0.01), label=scientific_10) +\n",
    "        # scale_y_continuous(expand = c(0,0,0,3)) + \n",
    "        # coord_cartesian(ylim = c(0,50))\n",
    "        # # theme(legend.position = \"none\") +\n",
    "        # gghighlight(max(count) > 300) +\n",
    "        # scale_y_log10()\n",
    "# ggsave(\"L0_unique_expressions_zoom_v1.svg\", p, width = 183*1/2, height = 89, units = \"mm\")"
   ]
  },
  {
   "cell_type": "code",
   "execution_count": 52,
   "metadata": {
    "vscode": {
     "languageId": "r"
    }
   },
   "outputs": [
    {
     "name": "stderr",
     "output_type": "stream",
     "text": [
      "\u001b[1m\u001b[22m`stat_bin()` using `bins = 30`. Pick better value with `binwidth`.\n"
     ]
    },
    {
     "data": {
      "image/png": "[encoded data removed]",
      "text/plain": [
       "plot without title"
      ]
     },
     "metadata": {
      "image/png": {
       "height": 420,
       "width": 420
      }
     },
     "output_type": "display_data"
    }
   ],
   "source": [
    "p"
   ]
  },
  {
   "cell_type": "code",
   "execution_count": null,
   "metadata": {
    "vscode": {
     "languageId": "r"
    }
   },
   "outputs": [],
   "source": []
  }
 ],
 "metadata": {
  "kernelspec": {
   "display_name": "R",
   "language": "R",
   "name": "ir"
  },
  "language_info": {
   "codemirror_mode": "r",
   "file_extension": ".r",
   "mimetype": "text/x-r-source",
   "name": "R",
   "pygments_lexer": "r",
   "version": "4.1.1"
  },
  "orig_nbformat": 4
 },
 "nbformat": 4,
 "nbformat_minor": 2
}
